{
 "cells": [
  {
   "cell_type": "code",
   "execution_count": 55,
   "metadata": {},
   "outputs": [],
   "source": [
    "review = open(\"yelp_review.txt\")\n",
    "ratings = review.read()\n",
    "review.close()"
   ]
  },
  {
   "cell_type": "code",
   "execution_count": 56,
   "metadata": {},
   "outputs": [],
   "source": [
    "ratings_strings = ratings.split()\n",
    "ratings_numbers = []\n",
    "\n",
    "for element in ratings_strings:\n",
    "    ratings_numbers.append(int(element))"
   ]
  },
  {
   "cell_type": "code",
   "execution_count": 57,
   "metadata": {},
   "outputs": [
    {
     "name": "stdout",
     "output_type": "stream",
     "text": [
      "This is the final ratings [4, 3, 2, 4, 3, 3, 2, 3, 4, 3, 3, 3, 4, 3, 4, 4, 4, 4]\n"
     ]
    }
   ],
   "source": [
    "scores = []\n",
    "for element in ratings_numbers:\n",
    "    if (element < 5) and (element > 1):\n",
    "        scores.append(element)\n",
    "print(f\"This is the final ratings {scores}\")"
   ]
  },
  {
   "cell_type": "code",
   "execution_count": 32,
   "metadata": {},
   "outputs": [],
   "source": []
  }
 ],
 "metadata": {
  "kernelspec": {
   "display_name": "Python 3",
   "language": "python",
   "name": "python3"
  },
  "language_info": {
   "codemirror_mode": {
    "name": "ipython",
    "version": 3
   },
   "file_extension": ".py",
   "mimetype": "text/x-python",
   "name": "python",
   "nbconvert_exporter": "python",
   "pygments_lexer": "ipython3",
   "version": "3.8.5"
  }
 },
 "nbformat": 4,
 "nbformat_minor": 4
}
